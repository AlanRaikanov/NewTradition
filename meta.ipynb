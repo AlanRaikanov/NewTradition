{
 "cells": [
  {
   "cell_type": "code",
   "execution_count": 125,
   "id": "ce587b12",
   "metadata": {},
   "outputs": [],
   "source": [
    "import re, json"
   ]
  },
  {
   "cell_type": "code",
   "execution_count": 126,
   "id": "c5b5bb9e",
   "metadata": {},
   "outputs": [],
   "source": [
    "scenario_name = \"Ghana\"\n",
    "\n",
    "with open(f\"{scenario_name}.txt\", \"r\", encoding=\"utf-8\") as f:\n",
    "    slides = f.read().split(\"\\n===\\n\")"
   ]
  },
  {
   "cell_type": "code",
   "execution_count": 127,
   "id": "dca116f1",
   "metadata": {},
   "outputs": [
    {
     "name": "stdout",
     "output_type": "stream",
     "text": [
      "{'id': 0, 'img': 'Ghana.png', 'text': '1957 год. Гана, бывшая британская колония в Западной Африке, которую англичане называли Золотой Берег, обрела независимость.'}\n",
      "{'id': 1, 'text': 'Борьбу за деколонизацию и независимость Ганы возглавил активист и политолог Кваме Нкрума, ставший вскоре первым избранным президентом новой страны.'}\n",
      "{'id': 2, 'text': 'Все шесть миллионов жителей страны разных народов и религий — от мусульман в северных провинциях, близких к Сахаре, до католиков на прибрежном юге — с надеждой смотрят в будущее.'}\n",
      "{'id': 3, 'text': 'Каким будет новое ганское общество? Как будет выглядеть новая ганская культура, свободная от колониальных пережитков прошлого?'}\n",
      "{'id': 4, 'text': 'Вы — молодая писательница, возвращающаяся к себе на родину после обучения в Лондоне. Вы, как и ваши друзья и коллеги, воодушевлены переменами и горячо обсуждаете будущее.'}\n",
      "{'id': 5, 'text': 'На вашем счету как писательницы есть несколько хорошо принятых новелл, но по-настоящему вас тянет к драме — живым представлениям и экспериментальным форматам. В Лондоне вы полюбили европейскую театральную культуру, и теперь ваша мечта — перепридумать западноафриканский театр, сделать его самобытным и свободным от влияния колониальной культуры.'}\n",
      "{'id': 6, 'text': 'В Аккре, столице Ганы, вы собираете группу молодых девушек и юношей, которые, как и вы, интересуются театром, и хотели бы писать и ставить пьесы.'}\n",
      "{'id': 7, 'text': 'Впрочем, денег на аренду студии у вас нет, и приходится довольствоваться малым. Вы видите два потенциальных места для сборов и репетиций.'}\n",
      "{'id': 8, 'choices': [{'text': 'Вместе с командой небольшого местного театра колониальных времён, где вас приютил знакомый директор.', 'action': 'training = theatre'}, {'text': 'Под открытым воздухом — на публичном пляже Аккры.', 'action': 'training = beach'}]}\n",
      "{'id': 9, 'conditions': [{'criterion': 'if training == beach'}, {'result': 'Иногда неудобно — под проливным дождём не позанимаешься. Но зато любопытные горожане собираются посмотреть на репетиции, разнося по столице вести о самодельном театре.'}]}\n",
      "{'id': 10, 'text': 'Среди участников самодельной театральной студии много талантливых молодых людей. По предложению одного из них труппа начинает писать полноценную пьесу на основе черновиков.'}\n",
      "{'id': 11, 'text': 'Невероятно, но деятельность вашей труппы привлекла внимание Кваме Нкрумы. Он предлагает вам встретиться.'}\n",
      "{'id': 12, 'text': 'Нкрума вежливо и учтиво принимает вас, много расспрашивает о ваших корнях и о вашей литературной деятельности.'}\n",
      "{'id': 13, 'text': '— Лондонский университет, вы говорите? — спрашивает он о вашем образовании. — А что именно вы там изучали?'}\n",
      "{'id': 14, 'choices': [{'text': '— Я изучала классическую драматургию.', 'action': 'education = drama', 'destination': 'Ashanti Pioneer MLK'}, {'text': '— Я специализировалась на исследованиях Африки.', 'action': 'education = african'}]}\n",
      "{'id': 15, 'conditions': [{'criterion': 'if education == african'}, {'result': 'Нкрума, улыбаясь, отвечает, что в таком случае вам наверняка будет интересно заняться созданием новой африканской театральной традиции.'}]}\n",
      "{'id': 16, 'text': 'Оказывается, Нкрума завёл речь об этом не просто так: он сообщает, что правительство хочет построить в Аккре современный большой театр. И считает, что его должен возглавить такой образованный и увлечённый искусством человек, как вы. По его словам, у вас будет полная творческая свобода в обустройстве и постановках.'}\n",
      "{'id': 17, 'choices': [{'text': '— Это потрясающая идея! Новое здание станет символом театра свободной Африки.'}, {'text': '— Мы дорожим нашей независимостью, но всё-таки театральной студии не помешает профессиональная сцена.'}]}\n",
      "{'id': 18, 'text': 'Предложение Нкрумы звучит многообещающе. Возвращаясь к привычному быту, вы то и дело задумываетесь о том, каким должен быть будущий Национальный театр.'}\n",
      "{'id': 19, 'slidename': 'Ashanti Pioneer: MLK', 'tag': 'newspaper', 'text': 'Сегодня утром Аккра приветствует американского активиста, борца за права афроамериканцев Мартина Лютера Кинга! Он посетил нашу столицу, чтобы встретиться с президентом Нкрумой. Кинг рассказал в интервью, что тронут результатами борьбы ганцев за свою независимость, а также заявил, что, по его мнению, она будет иметь огромные последствия не только для стран Африки и Азии, но и для всего мира.'}\n"
     ]
    }
   ],
   "source": [
    "for i in range(len(slides)):\n",
    "    slides[i] = {\n",
    "        \"id\": i,\n",
    "        \"metatext\": slides[i].strip(\"\\n\")\n",
    "    }\n",
    "    stroki = slides[i][\"metatext\"].split(\"\\n\")\n",
    "    buttons = []\n",
    "    \n",
    "    for stroka in stroki:\n",
    "        q = re.search(\" >>\", stroka)\n",
    "        if stroka.startswith(\"* \") and q:\n",
    "            \n",
    "            text = stroka[2 : q.start()].strip(\" \")\n",
    "            action = None\n",
    "            destination = None\n",
    "            \n",
    "            dest = re.split(\"[/]\", stroka[q.end() : ].strip(\" \"))\n",
    "            for elem in dest:\n",
    "                elem = elem.strip()\n",
    "                if elem == \"\":\n",
    "                    continue\n",
    "                if elem[0] == \"$\":\n",
    "                    action = elem[1:]\n",
    "                else:\n",
    "                    destination = elem[0:]\n",
    "            \n",
    "            current_button = {\"text\": text}\n",
    "            \n",
    "            if action:\n",
    "                current_button[\"action\"] = action\n",
    "            if destination:\n",
    "                current_button[\"destination\"] = destination\n",
    "            \n",
    "            buttons.append(current_button)\n",
    "            \n",
    "        elif stroka.startswith(\"(\") and stroka.endswith(\")\"):\n",
    "            slides[i][\"slidename\"] = stroka.strip(\"() \")\n",
    "        \n",
    "        elif stroka.startswith(\"{if \"):\n",
    "            stroka = re.split(\"[{}]\", stroka[1:])\n",
    "            \n",
    "            conditions = []\n",
    "            \n",
    "            for elem in stroka:\n",
    "                slovar = {}\n",
    "                \n",
    "                if elem.startswith(\"if\"):\n",
    "                    slovar[\"criterion\"] = elem\n",
    "                elif elem:\n",
    "                    slovar[\"result\"] = elem\n",
    "                \n",
    "                if slovar:\n",
    "                    conditions.append(slovar)\n",
    "            \n",
    "            if conditions:\n",
    "                slides[i][\"conditions\"] = conditions\n",
    "        \n",
    "        elif stroka.startswith(\"img=\"):\n",
    "            slides[i][\"img\"] = stroka[4:].strip(\"\\\"\\«\\»\\„\\“\")\n",
    "        \n",
    "        elif stroka.startswith(\"#\"):\n",
    "            slides[i][\"tag\"] = stroka.strip(\"# \")\n",
    "        \n",
    "        else:\n",
    "            slides[i][\"text\"] = stroka\n",
    "    \n",
    "    if buttons:\n",
    "        slides[i][\"choices\"] = buttons\n",
    "    \n",
    "    del slides[i][\"metatext\"]\n",
    "    \n",
    "    print(slides[i])"
   ]
  },
  {
   "cell_type": "code",
   "execution_count": 130,
   "id": "0ffdd704",
   "metadata": {},
   "outputs": [],
   "source": [
    "with open(f\"{scenario_name}.json\", \"w\", encoding=\"utf-8\") as f:\n",
    "    json.dump(slides, f, ensure_ascii=False, indent=2)"
   ]
  }
 ],
 "metadata": {
  "kernelspec": {
   "display_name": "Python 3 (ipykernel)",
   "language": "python",
   "name": "python3"
  },
  "language_info": {
   "codemirror_mode": {
    "name": "ipython",
    "version": 3
   },
   "file_extension": ".py",
   "mimetype": "text/x-python",
   "name": "python",
   "nbconvert_exporter": "python",
   "pygments_lexer": "ipython3",
   "version": "3.9.5"
  }
 },
 "nbformat": 4,
 "nbformat_minor": 5
}
